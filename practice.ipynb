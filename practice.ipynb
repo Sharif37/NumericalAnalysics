{
 "cells": [
  {
   "cell_type": "code",
   "execution_count": 8,
   "id": "eaeb0170-689d-45ce-a3ac-fd1e5cef40f6",
   "metadata": {},
   "outputs": [
    {
     "name": "stdout",
     "output_type": "stream",
     "text": [
      "k\n",
      "a\n",
      "z\n",
      "i\n",
      " \n",
      "o\n",
      "m\n",
      "a\n",
      "r\n",
      " \n",
      "s\n",
      "h\n",
      "a\n",
      "r\n",
      "i\n",
      "f\n"
     ]
    }
   ],
   "source": [
    "#for i in range(1,13):\n",
    "    #print(i)\n",
    "\n",
    "s=\"kazi omar sharif\"\n",
    "for c in s:\n",
    "    print(c)\n",
    "    "
   ]
  },
  {
   "cell_type": "code",
   "execution_count": 27,
   "id": "4a93d5b3-d6c5-4396-89fc-7425e74cdf5a",
   "metadata": {},
   "outputs": [
    {
     "name": "stdout",
     "output_type": "stream",
     "text": [
      "[0, 2, 4, 6, 8]\n",
      "[0, 1, 1, 2, 2, 3, 3, 4, 4, 5, 5, 6, 6, 7, 7, 8, 8, 9, 9, 10]\n"
     ]
    },
    {
     "data": {
      "text/plain": [
       "{'one': 1, 'two': 8, 'three': 27}"
      ]
     },
     "execution_count": 27,
     "metadata": {},
     "output_type": "execute_result"
    }
   ],
   "source": [
    "x=range(10)\n",
    "y=[ i for i in x if i%2==0]\n",
    "print(y)\n",
    "\n",
    "z=[i+j for i in range(10) for j in range(2)]\n",
    "print(z)\n",
    "\n",
    "x={\"one\":1,\"two\":2,\"three\":3}\n",
    "{key:v**3 for (key,v) in x.items()}"
   ]
  },
  {
   "cell_type": "code",
   "execution_count": 40,
   "id": "cb25fd46-bbf5-4631-a5d6-3eea6e01a1ff",
   "metadata": {},
   "outputs": [
    {
     "name": "stdout",
     "output_type": "stream",
     "text": [
      "max=1.7976931348623157e+308\n",
      " min=2.2250738585072014e-308\n",
      "1.0\n"
     ]
    }
   ],
   "source": [
    "import sys\n",
    "import numpy as np\n",
    "\n",
    "sys.float_info\n",
    "np.spacing(1e9)\n",
    "max=(2**(2046-1023))*(1+sum(.5**np.arange(1,53)))\n",
    "min=2**(1-1023)*(1+0)\n",
    "print(f\"max={max}\\n min={min}\")\n",
    "sys.float_info.max\n",
    "print(np.spacing(5*1e15))"
   ]
  },
  {
   "cell_type": "code",
   "execution_count": 53,
   "id": "4fbf4497",
   "metadata": {},
   "outputs": [
    {
     "name": "stdout",
     "output_type": "stream",
     "text": [
      "solve=[2.5 4.  3.5]\n",
      "[1.         2.5        4.66666667]\n"
     ]
    }
   ],
   "source": [
    "import numpy as np\n",
    "from scipy import linalg\n",
    "\n",
    "A = np.array([[2, -1, 0],\n",
    "              [-1, 2, -1],\n",
    "              [0, -1, 2]])\n",
    "\n",
    "b=np.array([1,2,3])\n",
    "x=linalg.solve(A,b)\n",
    "\n",
    "A_inv=linalg.inv(A)\n",
    "y=np.dot(A_inv,b)\n",
    "\n",
    "P, L, U = linalg.lu(A)\n",
    "y=linalg.solve_triangular(L,P.dot(b),lower=True)\n",
    "solve=linalg.solve_triangular(U,y)\n",
    "print(f\"solve={solve}\")\n",
    "#print(f\"P={P} \\n L={L} \\n U={U}\")\n",
    "#print(x)\n",
    "#print(f\"A={A}\\t\\n A^-1={A_inv}\")\n",
    "#print(y)"
   ]
  },
  {
   "cell_type": "code",
   "execution_count": 61,
   "id": "c596ae06",
   "metadata": {},
   "outputs": [
    {
     "name": "stdout",
     "output_type": "stream",
     "text": [
      "B=[[0.14659869 0.19778106 0.04312539]\n",
      " [0.5262752  0.25477173 0.94243162]\n",
      " [0.27341171 0.91388988 0.65164077]\n",
      " [0.30853227 0.5867649  0.16505055]]\n",
      "1.pseudo inverse of B=[[ 1.71057424  1.10471085 -2.38371169  2.65639903]\n",
      " [ 0.04620988 -0.79483532  1.04265836  0.40985275]\n",
      " [-0.93258967  0.65757053  1.05365434 -1.61224001]]\n",
      "2.pseudo inverse of B=[[ 1.71057424  1.10471085 -2.38371169  2.65639903]\n",
      " [ 0.04620988 -0.79483532  1.04265836  0.40985275]\n",
      " [-0.93258967  0.65757053  1.05365434 -1.61224001]]\n"
     ]
    }
   ],
   "source": [
    "B=np.random.rand(4,3)\n",
    "\n",
    "print(f\"B={B}\")\n",
    "\n",
    "B_pinv=np.linalg.pinv(B)\n",
    "print(f\"1.pseudo inverse of B={B_pinv}\")\n",
    "\n",
    "B_pinv2=np.linalg.inv(B.T @ B) @ B.T \n",
    "\n",
    "print(f\"2.pseudo inverse of B={B_pinv2}\")\n",
    "\n"
   ]
  },
  {
   "cell_type": "code",
   "execution_count": 62,
   "id": "8112575c",
   "metadata": {},
   "outputs": [
    {
     "name": "stdout",
     "output_type": "stream",
     "text": [
      "Mantissa: 0.7853975\n",
      "Exponent: 2\n"
     ]
    }
   ],
   "source": [
    "import math\n",
    "\n",
    "num = 3.14159\n",
    "\n",
    "mantissa, exponent = math.frexp(num)\n",
    "\n",
    "print(\"Mantissa:\", mantissa)\n",
    "print(\"Exponent:\", exponent)\n"
   ]
  },
  {
   "cell_type": "code",
   "execution_count": null,
   "id": "cbfc1fd7",
   "metadata": {},
   "outputs": [],
   "source": []
  }
 ],
 "metadata": {
  "kernelspec": {
   "display_name": "Python 3 (ipykernel)",
   "language": "python",
   "name": "python3"
  },
  "language_info": {
   "codemirror_mode": {
    "name": "ipython",
    "version": 3
   },
   "file_extension": ".py",
   "mimetype": "text/x-python",
   "name": "python",
   "nbconvert_exporter": "python",
   "pygments_lexer": "ipython3",
   "version": "3.11.4"
  }
 },
 "nbformat": 4,
 "nbformat_minor": 5
}
