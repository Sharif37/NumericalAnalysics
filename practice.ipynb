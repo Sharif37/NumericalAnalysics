{
 "cells": [
  {
   "cell_type": "code",
   "execution_count": 8,
   "id": "eaeb0170-689d-45ce-a3ac-fd1e5cef40f6",
   "metadata": {},
   "outputs": [
    {
     "name": "stdout",
     "output_type": "stream",
     "text": [
      "k\n",
      "a\n",
      "z\n",
      "i\n",
      " \n",
      "o\n",
      "m\n",
      "a\n",
      "r\n",
      " \n",
      "s\n",
      "h\n",
      "a\n",
      "r\n",
      "i\n",
      "f\n"
     ]
    }
   ],
   "source": [
    "#for i in range(1,13):\n",
    "    #print(i)\n",
    "\n",
    "s=\"kazi omar sharif\"\n",
    "for c in s:\n",
    "    print(c)\n",
    "    "
   ]
  },
  {
   "cell_type": "code",
   "execution_count": 27,
   "id": "4a93d5b3-d6c5-4396-89fc-7425e74cdf5a",
   "metadata": {},
   "outputs": [
    {
     "name": "stdout",
     "output_type": "stream",
     "text": [
      "[0, 2, 4, 6, 8]\n",
      "[0, 1, 1, 2, 2, 3, 3, 4, 4, 5, 5, 6, 6, 7, 7, 8, 8, 9, 9, 10]\n"
     ]
    },
    {
     "data": {
      "text/plain": [
       "{'one': 1, 'two': 8, 'three': 27}"
      ]
     },
     "execution_count": 27,
     "metadata": {},
     "output_type": "execute_result"
    }
   ],
   "source": [
    "x=range(10)\n",
    "y=[ i for i in x if i%2==0]\n",
    "print(y)\n",
    "\n",
    "z=[i+j for i in range(10) for j in range(2)]\n",
    "print(z)\n",
    "\n",
    "x={\"one\":1,\"two\":2,\"three\":3}\n",
    "{key:v**3 for (key,v) in x.items()}"
   ]
  },
  {
   "cell_type": "code",
   "execution_count": null,
   "id": "cb25fd46-bbf5-4631-a5d6-3eea6e01a1ff",
   "metadata": {},
   "outputs": [],
   "source": []
  }
 ],
 "metadata": {
  "kernelspec": {
   "display_name": "Python 3 (ipykernel)",
   "language": "python",
   "name": "python3"
  },
  "language_info": {
   "codemirror_mode": {
    "name": "ipython",
    "version": 3
   },
   "file_extension": ".py",
   "mimetype": "text/x-python",
   "name": "python",
   "nbconvert_exporter": "python",
   "pygments_lexer": "ipython3",
   "version": "3.11.4"
  }
 },
 "nbformat": 4,
 "nbformat_minor": 5
}
